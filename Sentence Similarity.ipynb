{
 "cells": [
  {
   "cell_type": "markdown",
   "id": "9582db22",
   "metadata": {},
   "source": [
    "# Introduction\n",
    "\n",
    "This code is based on SBERT, which is a streamlined sentence comparison API built on BERT. See documentation in https://www.sbert.net/docs/training/overview.html\n",
    "\n",
    "## Model Architecture\n",
    "\n",
    "![image](report/uml.jpeg)\n",
    "\n"
   ]
  },
  {
   "cell_type": "markdown",
   "id": "e687eb9a",
   "metadata": {},
   "source": [
    "# Configure settings and data"
   ]
  },
  {
   "cell_type": "code",
   "execution_count": 47,
   "id": "aa0a6ac0",
   "metadata": {},
   "outputs": [
    {
     "name": "stdout",
     "output_type": "stream",
     "text": [
      "The autoreload extension is already loaded. To reload it, use:\n",
      "  %reload_ext autoreload\n"
     ]
    }
   ],
   "source": [
    "%load_ext autoreload\n",
    "%autoreload 2\n",
    "\n",
    "from Settings.settings import *\n",
    "from Data.config_data import *\n",
    "from Model.model import *\n",
    "from Query.query import *\n",
    "\n",
    "ms = Settings()\n",
    "ms.configure()"
   ]
  },
  {
   "cell_type": "markdown",
   "id": "12900f74",
   "metadata": {},
   "source": [
    "Configure data: this step goes through the csv file and finds and trims the descriptions of the companies."
   ]
  },
  {
   "cell_type": "code",
   "execution_count": 48,
   "id": "d3597e36",
   "metadata": {},
   "outputs": [],
   "source": [
    "data = ConfigData().run_small()"
   ]
  },
  {
   "cell_type": "markdown",
   "id": "eb6d76f4",
   "metadata": {},
   "source": [
    "we can see that this returns a list of companies with their respective descriptions (with the company name in the 0th index and the description in the first)."
   ]
  },
  {
   "cell_type": "code",
   "execution_count": 52,
   "id": "bb7e750c",
   "metadata": {},
   "outputs": [
    {
     "data": {
      "text/plain": [
       "[['Basers', 'ICT recruitment & detachering offshore developers']]"
      ]
     },
     "execution_count": 52,
     "metadata": {},
     "output_type": "execute_result"
    }
   ],
   "source": [
    "data[4:5]"
   ]
  },
  {
   "cell_type": "markdown",
   "id": "a2ef7789",
   "metadata": {},
   "source": [
    "we then embed our company universe into representation space"
   ]
  },
  {
   "cell_type": "code",
   "execution_count": 53,
   "id": "24edb615",
   "metadata": {},
   "outputs": [],
   "source": [
    "model = Model(data)\n",
    "embed_univ = model.run()"
   ]
  },
  {
   "cell_type": "code",
   "execution_count": 54,
   "id": "dc485298",
   "metadata": {},
   "outputs": [],
   "source": [
    "import numpy as np\n",
    "emb_univ = embed_univ.numpy()\n",
    "dff = pd.DataFrame(emb_univ)\n",
    "dff.to_csv(\"ITonly_short_desc\", index=False)"
   ]
  },
  {
   "cell_type": "markdown",
   "id": "8eccf387",
   "metadata": {},
   "source": [
    "querying can then be done in one step: we input the sentence for a description and get as an output the results."
   ]
  },
  {
   "cell_type": "code",
   "execution_count": 55,
   "id": "462d57b4",
   "metadata": {},
   "outputs": [],
   "source": [
    "ms.configure()\n",
    "query = Query(embed_univ, data)"
   ]
  },
  {
   "cell_type": "code",
   "execution_count": 61,
   "id": "2d9fe98e",
   "metadata": {},
   "outputs": [
    {
     "data": {
      "text/plain": [
       "[['MergeYourData.com', 'Business Automation Specialists'],\n",
       " ['Jareva Technologies',\n",
       "  'Provides information technology automation software'],\n",
       " ['Innovative Business Software',\n",
       "  'Innovative Business Software develops automation for the world’s leading security monitoring providers, and those that monitor their own.'],\n",
       " ['Professional Computing Resources (PCR)',\n",
       "  'Provides an Enterprise-level management tool that tracks, manages, and bills – assets, people, operations and workflow.'],\n",
       " ['Automation Technology',\n",
       "  'Automation Technology is a provider of web-based collaborative asset management software for the electrical power generation industry.'],\n",
       " ['Epic-Premier Insurance Solutions',\n",
       "  'Delivering Intelligent Automation Tools & Services.'],\n",
       " ['AutomationEdge',\n",
       "  'AutomationEdge is the leading IT Automation and Robotic Process Automation Solution.'],\n",
       " ['CloudRunner.io Inc',\n",
       "  'CloudRunner designs and develops IT infrastructure automation framework.'],\n",
       " ['Smart Integration', 'Smart Integration, an integrated automation company.'],\n",
       " ['Business Automation Technology',\n",
       "  'Business Automation Technology is a Singapore based system integrator and third-party maintenance service provider.']]"
      ]
     },
     "execution_count": 61,
     "metadata": {},
     "output_type": "execute_result"
    }
   ],
   "source": [
    "query.run(\"is an enterprise automation platform that helps organizations work faster and smarter without compromising governance and security.\")"
   ]
  },
  {
   "cell_type": "markdown",
   "id": "c87ef7c1",
   "metadata": {},
   "source": [
    "# Saving embedding\n",
    "The embedding takes some time. We should thus save it for later use. We can do this into a csv by writing:"
   ]
  },
  {
   "cell_type": "code",
   "execution_count": 197,
   "id": "2b9ece0e",
   "metadata": {},
   "outputs": [],
   "source": [
    "emb_univ = embed_univ.numpy()\n",
    "dff = pd.DataFrame(emb_univ)\n",
    "dff.to_csv(\"first10000\", index=False)"
   ]
  },
  {
   "cell_type": "code",
   "execution_count": null,
   "id": "478e02d4",
   "metadata": {},
   "outputs": [],
   "source": []
  },
  {
   "cell_type": "markdown",
   "id": "de91700d",
   "metadata": {},
   "source": [
    "# Potential problems\n"
   ]
  },
  {
   "cell_type": "markdown",
   "id": "088ea703",
   "metadata": {},
   "source": [
    "1. We cut the word off by character, which means we are embedding some nonsense words\n",
    "2. We currently don't use the fact that these companies are categorized. This may be good or bad?\n",
    "3. We don't fine-tune the model\n",
    "4. User will have to look at the config_data module for differently formatted data sets\n"
   ]
  },
  {
   "cell_type": "code",
   "execution_count": null,
   "id": "9e8df899",
   "metadata": {},
   "outputs": [],
   "source": []
  }
 ],
 "metadata": {
  "kernelspec": {
   "display_name": "Python 3 (ipykernel)",
   "language": "python",
   "name": "python3"
  },
  "language_info": {
   "codemirror_mode": {
    "name": "ipython",
    "version": 3
   },
   "file_extension": ".py",
   "mimetype": "text/x-python",
   "name": "python",
   "nbconvert_exporter": "python",
   "pygments_lexer": "ipython3",
   "version": "3.8.12"
  }
 },
 "nbformat": 4,
 "nbformat_minor": 5
}
