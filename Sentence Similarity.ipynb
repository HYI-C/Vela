{
 "cells": [
  {
   "cell_type": "markdown",
   "id": "9582db22",
   "metadata": {},
   "source": [
    "# Introduction\n",
    "\n",
    "This code is based on SBERT, which is a streamlined sentence comparison API built on BERT. See documentation in https://www.sbert.net/docs/training/overview.html\n",
    "\n",
    "## Model Architecture\n",
    "\n",
    "![image](report/uml.jpeg)\n",
    "\n"
   ]
  },
  {
   "cell_type": "markdown",
   "id": "e687eb9a",
   "metadata": {},
   "source": [
    "# Configure settings and data"
   ]
  },
  {
   "cell_type": "code",
   "execution_count": 1,
   "id": "aa0a6ac0",
   "metadata": {},
   "outputs": [],
   "source": [
    "%load_ext autoreload\n",
    "%autoreload 2\n",
    "#!pip install sklearn\n",
    "\n",
    "from Settings.settings import *\n",
    "from Data.config_data import *\n",
    "from Model.model import *\n",
    "from Query.query import *\n",
    "\n",
    "ms = Settings()\n",
    "ms.configure()"
   ]
  },
  {
   "cell_type": "markdown",
   "id": "12900f74",
   "metadata": {},
   "source": [
    "Configure data: this step goes through the csv file and finds and trims the descriptions of the companies."
   ]
  },
  {
   "cell_type": "code",
   "execution_count": 5,
   "id": "d3597e36",
   "metadata": {},
   "outputs": [],
   "source": [
    "data = ConfigData().run_test()"
   ]
  },
  {
   "cell_type": "markdown",
   "id": "eb6d76f4",
   "metadata": {},
   "source": [
    "we can see that this returns a list of companies with their respective descriptions (with the company name in the 0th index and the description in the first)."
   ]
  },
  {
   "cell_type": "code",
   "execution_count": 6,
   "id": "bb7e750c",
   "metadata": {},
   "outputs": [
    {
     "data": {
      "text/plain": [
       "[['Klink Mobile',\n",
       "  'Klink Mobile, Inc. mobile payments company provides secure global application wireless infrastructure enables people from around globe transfer money exchange'],\n",
       " ['CompareTheJobBoards.com',\n",
       "  'A comparison site just jobs. A job seeker can search array adverts across hundreds job boards all in place making']]"
      ]
     },
     "execution_count": 6,
     "metadata": {},
     "output_type": "execute_result"
    }
   ],
   "source": [
    "data[5:7]"
   ]
  },
  {
   "cell_type": "markdown",
   "id": "a2ef7789",
   "metadata": {},
   "source": [
    "we then embed our company universe into representation space"
   ]
  },
  {
   "cell_type": "code",
   "execution_count": 7,
   "id": "24edb615",
   "metadata": {},
   "outputs": [],
   "source": [
    "#!pip install -U transformers tokenizers\n",
    "model = Model(data)\n",
    "embed_univ = model.run()"
   ]
  },
  {
   "cell_type": "code",
   "execution_count": 9,
   "id": "ad680043",
   "metadata": {},
   "outputs": [
    {
     "data": {
      "text/plain": [
       "768"
      ]
     },
     "execution_count": 9,
     "metadata": {},
     "output_type": "execute_result"
    }
   ],
   "source": [
    "len(embed_univ[0])"
   ]
  },
  {
   "cell_type": "code",
   "execution_count": 14,
   "id": "aa32d0da",
   "metadata": {},
   "outputs": [
    {
     "data": {
      "text/plain": [
       "10"
      ]
     },
     "execution_count": 14,
     "metadata": {},
     "output_type": "execute_result"
    }
   ],
   "source": [
    "import Settings\n",
    "Settings.custom.top_n"
   ]
  },
  {
   "cell_type": "markdown",
   "id": "71ec888a",
   "metadata": {},
   "source": [
    "We can also save ths embedding in a csv file:"
   ]
  },
  {
   "cell_type": "code",
   "execution_count": 163,
   "id": "dc485298",
   "metadata": {},
   "outputs": [],
   "source": [
    "import numpy as np\n",
    "emb_univ = embed_univ.numpy()\n",
    "dff = pd.DataFrame(emb_univ)\n",
    "dff.to_csv(\"random_select_train\", index=False)"
   ]
  },
  {
   "cell_type": "markdown",
   "id": "8eccf387",
   "metadata": {},
   "source": [
    "querying can then be done in one step: we input the sentence for a description and get as an output the results."
   ]
  },
  {
   "cell_type": "code",
   "execution_count": 15,
   "id": "462d57b4",
   "metadata": {},
   "outputs": [],
   "source": [
    "ms.configure()\n",
    "query = Query(embed_univ, data)"
   ]
  },
  {
   "cell_type": "code",
   "execution_count": 16,
   "id": "2d9fe98e",
   "metadata": {},
   "outputs": [
    {
     "data": {
      "text/plain": [
       "([['Ammyy',\n",
       "   'Ammyy always developing cutting edge internet solutions. Our team has researched informational technologies automation management remote computer access services many'],\n",
       "  ['Crescent Technologies',\n",
       "   'We provide services support achieve business goal by combines tech expertise business intelligent our customers. We take each project seriously'],\n",
       "  ['Invent Orbit',\n",
       "   'Invent Orbit technology start-up our mission help people organize share useful information make them accessible globally, currently we working exciting'],\n",
       "  ['Aventus software',\n",
       "   'We help Internet-based businesses product companies design develop cloud-native web mobile solutions. We drive digital transformation businesses by helping them'],\n",
       "  ['Akson Engineering',\n",
       "   'We use pioneer communication technologies enhance our clients’ business. We listen our clients, share our expertise collaborate build them perfect'],\n",
       "  ['WamiTech',\n",
       "   'WamiTech Technology Blog all kinds your day day technology concerns. WamiTech aims provide free guidance support all users computers related'],\n",
       "  ['Spearstone',\n",
       "   'Spearstone software products application development team specializing in defining, delivering, deploying solutions using proven customer-focused processes. Spearstone achieves exceptional results'],\n",
       "  ['Protective Systems', 'It Security management company.'],\n",
       "  ['SourceNET',\n",
       "   'SourceNET technology company, providing ERP systems micro, small, medium enterprises. The company focused aligning technology global trends, currently in demand.'],\n",
       "  ['ACT Network Solutions',\n",
       "   'ACT Network Solutions provides managed IT network support small midsized businesses, local governments, HIPAA regulated organizations, schools. They also provide']],\n",
       " 2,\n",
       " 0.8944271909999159)"
      ]
     },
     "execution_count": 16,
     "metadata": {},
     "output_type": "execute_result"
    }
   ],
   "source": [
    "query.run(\"always developing cutting edge internet solutions. Our team has researched informational technologies automation management remote computer access services many\")"
   ]
  },
  {
   "cell_type": "code",
   "execution_count": 20,
   "id": "740060a6",
   "metadata": {},
   "outputs": [
    {
     "data": {
      "text/plain": [
       "tensor([[ 0.0088, -0.1361, -0.0023,  ..., -0.0164, -0.0305, -0.0437],\n",
       "        [ 0.0056,  0.0056, -0.0190,  ..., -0.0190, -0.0209,  0.0043],\n",
       "        [ 0.0603,  0.0040,  0.0058,  ..., -0.0563,  0.0562, -0.0343],\n",
       "        ...,\n",
       "        [ 0.0457, -0.0057,  0.0097,  ..., -0.0070,  0.0300, -0.0643],\n",
       "        [ 0.0057,  0.0242, -0.0316,  ...,  0.0191, -0.0464, -0.0209],\n",
       "        [ 0.0288, -0.0094, -0.0296,  ..., -0.0153,  0.0108, -0.0491]])"
      ]
     },
     "execution_count": 20,
     "metadata": {},
     "output_type": "execute_result"
    }
   ],
   "source": [
    "embed_univ"
   ]
  },
  {
   "cell_type": "markdown",
   "id": "c87ef7c1",
   "metadata": {},
   "source": [
    "# Saving embedding\n",
    "The embedding takes some time. We should thus save it for later use. We can do this into a csv by writing:"
   ]
  },
  {
   "cell_type": "code",
   "execution_count": 197,
   "id": "2b9ece0e",
   "metadata": {},
   "outputs": [],
   "source": [
    "emb_univ = embed_univ.numpy()\n",
    "dff = pd.DataFrame(emb_univ)\n",
    "dff.to_csv(\"first10000\", index=False)"
   ]
  },
  {
   "cell_type": "markdown",
   "id": "4a303aff",
   "metadata": {},
   "source": [
    "# Experiments"
   ]
  },
  {
   "cell_type": "code",
   "execution_count": null,
   "id": "34563c18",
   "metadata": {},
   "outputs": [],
   "source": [
    "from Experiments.experiments import *\n",
    "\n",
    "num_words, score = Experiment().run()"
   ]
  },
  {
   "cell_type": "markdown",
   "id": "11c6e0e3",
   "metadata": {},
   "source": [
    "# Model evaluation\n",
    "\n",
    "We evaluate the model based on the similarity of the embeddings by calculating the Spearman rank correlation in comparison to \"gold standards\". These calibration sentences are set in `settings.custom` as follows:"
   ]
  },
  {
   "cell_type": "code",
   "execution_count": 56,
   "id": "1d1d258c",
   "metadata": {},
   "outputs": [],
   "source": [
    "custom.sentences1 = ['Grabango is the leader in checkout-free technology for existing, large-scale grocery and convenience stores', 'Grabango is the leader in checkout-free technology for existing, large-scale grocery and convenience stores', 'Grabango is the leader in checkout-free technology for existing, large-scale grocery and convenience stores','Grabango is the leader in checkout-free technology for existing, large-scale grocery and convenience stores','Grabango is the leader in checkout-free technology for existing, large-scale grocery and convenience stores']\n",
    "custom.sentences2 = ['Zippin is the next generation of checkout-free technology enabling retailers to quickly deploy frictionless shopping in their stores.', 'Standard Cognition provides an autonomous checkout tool that can be installed into retailers’ existing stores.', 'AiFi enables reliable, cost-effective, and contactless autonomous shopping with AI-powered computer vision technology.', 'Moveworks offers an AI platform that revolutionizes how companies support their employees.','Tonkean provides an enterprise no-code process orchestration platform.']\n",
    "custom.scores = [1, 1, 1, 0.03, 0.05]"
   ]
  },
  {
   "cell_type": "markdown",
   "id": "499cdda8",
   "metadata": {},
   "source": [
    "then, whenever we run `Query`, we get the scores along with it."
   ]
  },
  {
   "cell_type": "markdown",
   "id": "0b7200bb",
   "metadata": {},
   "source": [
    "# Model fine tuning\n",
    "So far, we have used the model \"as-is\". For better results, we will have to retrain the model. \n",
    "\n",
    "![image](report/training.jpeg)"
   ]
  },
  {
   "cell_type": "markdown",
   "id": "8ab3dec6",
   "metadata": {},
   "source": [
    "## Training data\n",
    "The training data should consist of pairs of sentences with a labelled score. We prepare the data by runnning the algorithm to select sentences that are close together, then we apply non-linear scaling on it"
   ]
  },
  {
   "cell_type": "code",
   "execution_count": 165,
   "id": "866affda",
   "metadata": {},
   "outputs": [
    {
     "data": {
      "text/plain": [
       "50000"
      ]
     },
     "execution_count": 165,
     "metadata": {},
     "output_type": "execute_result"
    }
   ],
   "source": [
    "len(embed_univ)"
   ]
  },
  {
   "cell_type": "code",
   "execution_count": 166,
   "id": "29f94731",
   "metadata": {},
   "outputs": [],
   "source": [
    "from Data.train_prep import *\n",
    "\n",
    "datapreparing = TrainPrep(embed_univ, data)"
   ]
  },
  {
   "cell_type": "code",
   "execution_count": 167,
   "id": "aaea5d25",
   "metadata": {},
   "outputs": [],
   "source": [
    "pairs_data = datapreparing.run()"
   ]
  },
  {
   "cell_type": "code",
   "execution_count": 168,
   "id": "1d1dc9f3",
   "metadata": {},
   "outputs": [],
   "source": [
    "pd.DataFrame(pairs_data).to_csv(\"test.csv\")"
   ]
  },
  {
   "cell_type": "code",
   "execution_count": 170,
   "id": "40aeb230",
   "metadata": {},
   "outputs": [
    {
     "data": {
      "text/plain": [
       "1741"
      ]
     },
     "execution_count": 170,
     "metadata": {},
     "output_type": "execute_result"
    }
   ],
   "source": [
    "len(pairs_data)"
   ]
  },
  {
   "cell_type": "markdown",
   "id": "b9d0c200",
   "metadata": {},
   "source": [
    "Alternatively, we can import a dataset as such:"
   ]
  },
  {
   "cell_type": "code",
   "execution_count": 37,
   "id": "4a529ffb",
   "metadata": {},
   "outputs": [],
   "source": [
    "train_set = pd.read_csv(\"Pairs.csv\", index_col=False)\n",
    "train_set.drop(\"Unnamed: 0\", axis=1, inplace=True)\n",
    "train = train_set.to_numpy()"
   ]
  },
  {
   "cell_type": "code",
   "execution_count": 84,
   "id": "a5445b84",
   "metadata": {},
   "outputs": [],
   "source": [
    "pairs_data = np.array([[0, 0, 0, 0]])\n",
    "for i in range(0, len(train)):\n",
    "    if train[i][0]!=train[i][2]:\n",
    "        pair = np.array([train[i][0], train[i][1], train[i][2], train[i][3]])\n",
    "        pairs_data = np.vstack([pairs_data, pair])\n",
    "pairs = np.delete(pairs_data, 0, 0)"
   ]
  },
  {
   "cell_type": "code",
   "execution_count": 122,
   "id": "a872c297",
   "metadata": {},
   "outputs": [
    {
     "data": {
      "text/plain": [
       "1010"
      ]
     },
     "execution_count": 122,
     "metadata": {},
     "output_type": "execute_result"
    }
   ],
   "source": [
    "len(new)"
   ]
  },
  {
   "cell_type": "markdown",
   "id": "630bd124",
   "metadata": {},
   "source": [
    "## Train model"
   ]
  },
  {
   "cell_type": "code",
   "execution_count": 95,
   "id": "55ae489f",
   "metadata": {},
   "outputs": [],
   "source": [
    "from Model.train_model import *\n",
    "ms.configure()\n",
    "trainer = TrainModel(pairs)"
   ]
  },
  {
   "cell_type": "code",
   "execution_count": 113,
   "id": "57045a47",
   "metadata": {},
   "outputs": [
    {
     "name": "stderr",
     "output_type": "stream",
     "text": [
      "Some weights of the model checkpoint at bert-base-uncased were not used when initializing BertModel: ['cls.seq_relationship.weight', 'cls.seq_relationship.bias', 'cls.predictions.transform.LayerNorm.weight', 'cls.predictions.bias', 'cls.predictions.decoder.weight', 'cls.predictions.transform.dense.weight', 'cls.predictions.transform.LayerNorm.bias', 'cls.predictions.transform.dense.bias']\n",
      "- This IS expected if you are initializing BertModel from the checkpoint of a model trained on another task or with another architecture (e.g. initializing a BertForSequenceClassification model from a BertForPreTraining model).\n",
      "- This IS NOT expected if you are initializing BertModel from the checkpoint of a model that you expect to be exactly identical (initializing a BertForSequenceClassification model from a BertForSequenceClassification model).\n"
     ]
    },
    {
     "data": {
      "application/vnd.jupyter.widget-view+json": {
       "model_id": "17020838f3ba4acdaa3dd05e84bead08",
       "version_major": 2,
       "version_minor": 0
      },
      "text/plain": [
       "Epoch:   0%|          | 0/1 [00:00<?, ?it/s]"
      ]
     },
     "metadata": {},
     "output_type": "display_data"
    },
    {
     "data": {
      "application/vnd.jupyter.widget-view+json": {
       "model_id": "860062e8da3f4b05ad8fd3ad7a4682e1",
       "version_major": 2,
       "version_minor": 0
      },
      "text/plain": [
       "Iteration:   0%|          | 0/101 [00:00<?, ?it/s]"
      ]
     },
     "metadata": {},
     "output_type": "display_data"
    },
    {
     "name": "stdout",
     "output_type": "stream",
     "text": [
      "0.7826237921249264\n"
     ]
    }
   ],
   "source": [
    "trainer.train(1)"
   ]
  },
  {
   "cell_type": "markdown",
   "id": "0310722d",
   "metadata": {},
   "source": [
    "## Using the trained model\n",
    "\n",
    "Embedding the universe"
   ]
  },
  {
   "cell_type": "code",
   "execution_count": 117,
   "id": "e860b861",
   "metadata": {},
   "outputs": [],
   "source": [
    "model = Model(data, model = trainer.model)\n",
    "embed_univ = model.run()"
   ]
  },
  {
   "cell_type": "markdown",
   "id": "ddd72542",
   "metadata": {},
   "source": [
    "Querying"
   ]
  },
  {
   "cell_type": "code",
   "execution_count": 121,
   "id": "efc55be6",
   "metadata": {},
   "outputs": [
    {
     "data": {
      "text/plain": [
       "([['Ammyy',\n",
       "   'Ammyy always developing cutting edge internet solutions. Our team has researched informational technologies automation management remote computer access services many'],\n",
       "  ['miracl3',\n",
       "   'We leading web development web design agency, providing best web designing development services from last 10+ years at reasonable cost.We'],\n",
       "  ['Klink Mobile',\n",
       "   'Klink Mobile, Inc. mobile payments company provides secure global application wireless infrastructure enables people from around globe transfer money exchange'],\n",
       "  ['Decimator Design',\n",
       "   'Decimator Design Australian technology company founded in 2006 focusing design manufacture quality products service broadcast environment but applications in other'],\n",
       "  ['Juick', 'IM-based social network microblogging service.'],\n",
       "  ['Mongo',\n",
       "   'Mongo LLP independent application studio has developed social networking app iOS devices named Mongo - location-based networkin'],\n",
       "  ['Zebel',\n",
       "   'Zebel software offers data analytics tools multifamily real estate developers general contractors run feasibility analysis during early design stages. Our'],\n",
       "  ['Master Share Price',\n",
       "   \"Master share price world's leading financial information source. We provide live stock prices education technical analysis.\"],\n",
       "  ['CR8Change',\n",
       "   'A mission driven green web hosting planting tree behalf every account, every month. CR8Change wind powered green web hosting company'],\n",
       "  ['Creative Keedas Private Limited',\n",
       "   'We privately held digital marketing company in Ahmedabad, India. From conception we made sure we set our foot into massive']],\n",
       " 10,\n",
       " 0.7826237921249264)"
      ]
     },
     "execution_count": 121,
     "metadata": {},
     "output_type": "execute_result"
    }
   ],
   "source": [
    "query = Query(embed_univ, data, model = trainer.model)\n",
    "query.run(\"always developing cutting edge internet solutions. Our team has researched informational technologies automation management remote computer access services many\")"
   ]
  },
  {
   "cell_type": "markdown",
   "id": "201e4ecd",
   "metadata": {},
   "source": [
    "# Potential problems\n",
    "\n",
    "1. We currently don't use the fact that these companies are categorized. This may be good or bad?\n",
    "2. We don't fine-tune the model\n",
    "3. User will have to look at the config_data module for differently formatted data sets\n"
   ]
  }
 ],
 "metadata": {
  "kernelspec": {
   "display_name": "Python 3 (ipykernel)",
   "language": "python",
   "name": "python3"
  },
  "language_info": {
   "codemirror_mode": {
    "name": "ipython",
    "version": 3
   },
   "file_extension": ".py",
   "mimetype": "text/x-python",
   "name": "python",
   "nbconvert_exporter": "python",
   "pygments_lexer": "ipython3",
   "version": "3.9.7"
  }
 },
 "nbformat": 4,
 "nbformat_minor": 5
}
