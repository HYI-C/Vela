{
 "cells": [
  {
   "cell_type": "markdown",
   "id": "9582db22",
   "metadata": {},
   "source": [
    "# Introduction\n",
    "\n",
    "This code is based on SBERT, which is a streamlined sentence comparison API built on BERT (and is itself a siamese network). See https://arxiv.org/pdf/1908.10084.pdf.\n",
    "\n",
    "## Model Architecture\n",
    "\n",
    "The simplest variant of our model is the stock use of SBERT. It consists of two major parts: the embedding part and the searching part. After embedding into representation space (see vertical flow chart going downwards), we can query the space for similar companies using a cosine similarity matching algorithm (see blue box). The model is built with the settings configured as a shared-state, which allows for the model parameters to be individually and continuously reconfigured in one step. This allows for users to fine-tune the model easily. Default parameters are provided in the file `Settings.custom`.\n",
    "\n",
    "![image](report/uml.jpeg)\n",
    "\n"
   ]
  },
  {
   "cell_type": "markdown",
   "id": "e687eb9a",
   "metadata": {},
   "source": [
    "# Configure settings and data\n",
    "\n",
    "After installing dependencies, import all relavent modules and configure settings"
   ]
  },
  {
   "cell_type": "code",
   "execution_count": 123,
   "id": "aa0a6ac0",
   "metadata": {},
   "outputs": [
    {
     "name": "stdout",
     "output_type": "stream",
     "text": [
      "The autoreload extension is already loaded. To reload it, use:\n",
      "  %reload_ext autoreload\n"
     ]
    }
   ],
   "source": [
    "%load_ext autoreload\n",
    "%autoreload 2\n",
    "#!pip install sklearn\n",
    "\n",
    "from Settings.settings import *\n",
    "from Data.config_data import *\n",
    "from Model.model import *\n",
    "from Query.query import *\n",
    "\n",
    "#configure settings\n",
    "ms = Settings()\n",
    "ms.configure()"
   ]
  },
  {
   "cell_type": "markdown",
   "id": "12900f74",
   "metadata": {},
   "source": [
    "Configure data: this step goes through the csv file and finds and trims the descriptions of the companies. It returns a list of companies. `ConfigData` can be called in three ways. \n",
    "1. To work with the entire universe, call `ConfigData.run()`\n",
    "2. To work with IT companies only, call `ConfigData.run_IT()`\n",
    "3. To work with a small dataset of the first 10000 rows, call `ConfigData.run_test()`"
   ]
  },
  {
   "cell_type": "code",
   "execution_count": 5,
   "id": "d3597e36",
   "metadata": {},
   "outputs": [],
   "source": [
    "data = ConfigData().run_test()"
   ]
  },
  {
   "cell_type": "markdown",
   "id": "eb6d76f4",
   "metadata": {},
   "source": [
    "we can see that this returns a list of companies with their respective descriptions (with the company name in the 0th index and the description in the first)."
   ]
  },
  {
   "cell_type": "code",
   "execution_count": 6,
   "id": "bb7e750c",
   "metadata": {},
   "outputs": [
    {
     "data": {
      "text/plain": [
       "[['Klink Mobile',\n",
       "  'Klink Mobile, Inc. mobile payments company provides secure global application wireless infrastructure enables people from around globe transfer money exchange'],\n",
       " ['CompareTheJobBoards.com',\n",
       "  'A comparison site just jobs. A job seeker can search array adverts across hundreds job boards all in place making']]"
      ]
     },
     "execution_count": 6,
     "metadata": {},
     "output_type": "execute_result"
    }
   ],
   "source": [
    "data[5:7]"
   ]
  },
  {
   "cell_type": "markdown",
   "id": "a2ef7789",
   "metadata": {},
   "source": [
    "# Word Embedding\n",
    "We then use the `Model()` module to embed our selected company universe into representation space"
   ]
  },
  {
   "cell_type": "code",
   "execution_count": null,
   "id": "24edb615",
   "metadata": {},
   "outputs": [],
   "source": [
    "model = Model(data)\n",
    "embed_univ = model.run()"
   ]
  },
  {
   "cell_type": "markdown",
   "id": "8735653a",
   "metadata": {},
   "source": [
    "As we can see, this is a 768 dimensional vector space:"
   ]
  },
  {
   "cell_type": "code",
   "execution_count": 9,
   "id": "ad680043",
   "metadata": {},
   "outputs": [
    {
     "data": {
      "text/plain": [
       "768"
      ]
     },
     "execution_count": 9,
     "metadata": {},
     "output_type": "execute_result"
    }
   ],
   "source": [
    "len(embed_univ[0])"
   ]
  },
  {
   "cell_type": "code",
   "execution_count": 14,
   "id": "aa32d0da",
   "metadata": {},
   "outputs": [
    {
     "data": {
      "text/plain": [
       "10"
      ]
     },
     "execution_count": 14,
     "metadata": {},
     "output_type": "execute_result"
    }
   ],
   "source": [
    "import Settings\n",
    "Settings.custom.top_n"
   ]
  },
  {
   "cell_type": "markdown",
   "id": "71ec888a",
   "metadata": {},
   "source": [
    "## Saving the embedded universe\n",
    "You might have noticed that the embedding takes some time. We should thus save it for later use. We can do this into a csv by writing:"
   ]
  },
  {
   "cell_type": "code",
   "execution_count": 163,
   "id": "dc485298",
   "metadata": {},
   "outputs": [],
   "source": [
    "import numpy as np\n",
    "emb_univ = embed_univ.numpy()\n",
    "df = pd.DataFrame(emb_univ)\n",
    "df.to_csv(\"random_select_train\", index=False)"
   ]
  },
  {
   "cell_type": "markdown",
   "id": "8eccf387",
   "metadata": {},
   "source": [
    "# Querying\n",
    "\n",
    "Querying can then be done in one step: we input the sentence for a description and get as an output the results. Note the two scores at the bottom: the first is how many sentences are above a certain cosine similarity threshold, and the second is SBERT's model evaluation score (see next section)."
   ]
  },
  {
   "cell_type": "code",
   "execution_count": 15,
   "id": "462d57b4",
   "metadata": {},
   "outputs": [],
   "source": [
    "query = Query(embed_univ, data)"
   ]
  },
  {
   "cell_type": "code",
   "execution_count": 16,
   "id": "2d9fe98e",
   "metadata": {},
   "outputs": [
    {
     "data": {
      "text/plain": [
       "([['Ammyy',\n",
       "   'Ammyy always developing cutting edge internet solutions. Our team has researched informational technologies automation management remote computer access services many'],\n",
       "  ['Crescent Technologies',\n",
       "   'We provide services support achieve business goal by combines tech expertise business intelligent our customers. We take each project seriously'],\n",
       "  ['Invent Orbit',\n",
       "   'Invent Orbit technology start-up our mission help people organize share useful information make them accessible globally, currently we working exciting'],\n",
       "  ['Aventus software',\n",
       "   'We help Internet-based businesses product companies design develop cloud-native web mobile solutions. We drive digital transformation businesses by helping them'],\n",
       "  ['Akson Engineering',\n",
       "   'We use pioneer communication technologies enhance our clients’ business. We listen our clients, share our expertise collaborate build them perfect'],\n",
       "  ['WamiTech',\n",
       "   'WamiTech Technology Blog all kinds your day day technology concerns. WamiTech aims provide free guidance support all users computers related'],\n",
       "  ['Spearstone',\n",
       "   'Spearstone software products application development team specializing in defining, delivering, deploying solutions using proven customer-focused processes. Spearstone achieves exceptional results'],\n",
       "  ['Protective Systems', 'It Security management company.'],\n",
       "  ['SourceNET',\n",
       "   'SourceNET technology company, providing ERP systems micro, small, medium enterprises. The company focused aligning technology global trends, currently in demand.'],\n",
       "  ['ACT Network Solutions',\n",
       "   'ACT Network Solutions provides managed IT network support small midsized businesses, local governments, HIPAA regulated organizations, schools. They also provide']],\n",
       " 2,\n",
       " 0.8944271909999159)"
      ]
     },
     "execution_count": 16,
     "metadata": {},
     "output_type": "execute_result"
    }
   ],
   "source": [
    "query.run(\"always developing cutting edge internet solutions. Our team has researched informational technologies automation management remote computer access services many\")"
   ]
  },
  {
   "cell_type": "markdown",
   "id": "11c6e0e3",
   "metadata": {},
   "source": [
    "# Model evaluation\n",
    "\n",
    "We have three ways of evaluating the model. \n",
    "\n",
    "1. Check how many outputs are above a certain similarity threshold level\n",
    "2. Evaluate the model based on the similarity of the embeddings by calculating the Spearman rank correlation in comparison to \"gold standards\". These calibration sentences are set in `settings.custom` as follows"
   ]
  },
  {
   "cell_type": "code",
   "execution_count": 56,
   "id": "1d1d258c",
   "metadata": {},
   "outputs": [],
   "source": [
    "custom.sentences1 = ['Grabango is the leader in checkout-free technology for existing, large-scale grocery and convenience stores', 'Grabango is the leader in checkout-free technology for existing, large-scale grocery and convenience stores', 'Grabango is the leader in checkout-free technology for existing, large-scale grocery and convenience stores','Grabango is the leader in checkout-free technology for existing, large-scale grocery and convenience stores','Grabango is the leader in checkout-free technology for existing, large-scale grocery and convenience stores']\n",
    "custom.sentences2 = ['Zippin is the next generation of checkout-free technology enabling retailers to quickly deploy frictionless shopping in their stores.', 'Standard Cognition provides an autonomous checkout tool that can be installed into retailers’ existing stores.', 'AiFi enables reliable, cost-effective, and contactless autonomous shopping with AI-powered computer vision technology.', 'Moveworks offers an AI platform that revolutionizes how companies support their employees.','Tonkean provides an enterprise no-code process orchestration platform.']\n",
    "custom.scores = [1, 1, 1, 0.03, 0.05]"
   ]
  },
  {
   "cell_type": "markdown",
   "id": "499cdda8",
   "metadata": {},
   "source": [
    "(whenever we run `Query`, we get the scores along with it).\n",
    "\n",
    "3. Out of N iterations, see how many pairs of companies are produced that are of sufficient correlation (see next section on training data)"
   ]
  },
  {
   "cell_type": "markdown",
   "id": "0b7200bb",
   "metadata": {},
   "source": [
    "# Model fine tuning\n",
    "So far, we have used the model \"as-is\". For better results, we will have to retrain the model. The first two modules within the model, BERT and the pooling algorithm, are effectively the same as stock SBERT. However, we attach a fully-connected neural network to the pooling module, which condenses the 768 dimensional vector space into 256 dimensions. The learning of this condensation forms connections with words that are not immediately obviouus to the pre-trained SBERT model.\n",
    "\n",
    "The dense layer trains on pairs of companies, along with the respective labelled cosine similarity. The network then compares company pairs and computes a similarity score, which is passed through to a similarity loss function along\n",
    "with the labelled similarity. This loss function is minimised during the training process.\n",
    "![image](report/training.jpeg)"
   ]
  },
  {
   "cell_type": "markdown",
   "id": "8ab3dec6",
   "metadata": {},
   "source": [
    "## Producing training data\n",
    "The training data should consist of pairs of sentences with a labelled score. We prepare the data by runnning the algorithm to select sentences that are close together, then we apply non-linear scaling on it"
   ]
  },
  {
   "cell_type": "code",
   "execution_count": 166,
   "id": "29f94731",
   "metadata": {},
   "outputs": [],
   "source": [
    "from Data.train_prep import *\n",
    "\n",
    "datapreparing = TrainPrep(embed_univ, data)"
   ]
  },
  {
   "cell_type": "code",
   "execution_count": 167,
   "id": "aaea5d25",
   "metadata": {},
   "outputs": [],
   "source": [
    "pairs_data = datapreparing.run()"
   ]
  },
  {
   "cell_type": "code",
   "execution_count": 168,
   "id": "1d1dc9f3",
   "metadata": {},
   "outputs": [],
   "source": [
    "pd.DataFrame(pairs_data).to_csv(\"test.csv\")"
   ]
  },
  {
   "cell_type": "markdown",
   "id": "b9d0c200",
   "metadata": {},
   "source": [
    "Alternatively, we can import a dataset as such:"
   ]
  },
  {
   "cell_type": "code",
   "execution_count": 37,
   "id": "4a529ffb",
   "metadata": {},
   "outputs": [],
   "source": [
    "train_set = pd.read_csv(\"Pairs.csv\", index_col=False)\n",
    "train_set.drop(\"Unnamed: 0\", axis=1, inplace=True)\n",
    "train = train_set.to_numpy()"
   ]
  },
  {
   "cell_type": "markdown",
   "id": "74990786",
   "metadata": {},
   "source": [
    "We write a bit of code to make sure we don't have duplicates in the dataset:"
   ]
  },
  {
   "cell_type": "code",
   "execution_count": 84,
   "id": "a5445b84",
   "metadata": {},
   "outputs": [],
   "source": [
    "pairs_data = np.array([[0, 0, 0, 0]])\n",
    "for i in range(0, len(train)):\n",
    "    if train[i][0]!=train[i][2]:\n",
    "        pair = np.array([train[i][0], train[i][1], train[i][2], train[i][3]])\n",
    "        pairs_data = np.vstack([pairs_data, pair])\n",
    "good_pairs = np.delete(pairs_data, 0, 0)"
   ]
  },
  {
   "cell_type": "code",
   "execution_count": 122,
   "id": "a872c297",
   "metadata": {},
   "outputs": [
    {
     "data": {
      "text/plain": [
       "1010"
      ]
     },
     "execution_count": 122,
     "metadata": {},
     "output_type": "execute_result"
    }
   ],
   "source": [
    "len(good_pairs)"
   ]
  },
  {
   "cell_type": "markdown",
   "id": "630bd124",
   "metadata": {},
   "source": [
    "## Train model\n",
    "\n",
    "We then pass the pairs into the `train_model` module to train the dense layer. Please note that this is not finished. As of right now we only train on pairs that are \"good\", i.e., pairs that are very similar. In order for the dense layer to learn our data, we also need to pass on pairs that are \"bad\". To do this, the private method `TrainModel()._input_good_data` will have to be modified to accept good and bad pairs. I leave this to the next engineer. \n",
    "\n",
    "Once this is complete, the model trains without issues."
   ]
  },
  {
   "cell_type": "code",
   "execution_count": 95,
   "id": "55ae489f",
   "metadata": {},
   "outputs": [],
   "source": [
    "from Model.train_model import *\n",
    "ms.configure()\n",
    "trainer = TrainModel(good_pairs)"
   ]
  },
  {
   "cell_type": "code",
   "execution_count": 113,
   "id": "57045a47",
   "metadata": {},
   "outputs": [
    {
     "name": "stderr",
     "output_type": "stream",
     "text": [
      "Some weights of the model checkpoint at bert-base-uncased were not used when initializing BertModel: ['cls.seq_relationship.weight', 'cls.seq_relationship.bias', 'cls.predictions.transform.LayerNorm.weight', 'cls.predictions.bias', 'cls.predictions.decoder.weight', 'cls.predictions.transform.dense.weight', 'cls.predictions.transform.LayerNorm.bias', 'cls.predictions.transform.dense.bias']\n",
      "- This IS expected if you are initializing BertModel from the checkpoint of a model trained on another task or with another architecture (e.g. initializing a BertForSequenceClassification model from a BertForPreTraining model).\n",
      "- This IS NOT expected if you are initializing BertModel from the checkpoint of a model that you expect to be exactly identical (initializing a BertForSequenceClassification model from a BertForSequenceClassification model).\n"
     ]
    },
    {
     "data": {
      "application/vnd.jupyter.widget-view+json": {
       "model_id": "17020838f3ba4acdaa3dd05e84bead08",
       "version_major": 2,
       "version_minor": 0
      },
      "text/plain": [
       "Epoch:   0%|          | 0/1 [00:00<?, ?it/s]"
      ]
     },
     "metadata": {},
     "output_type": "display_data"
    },
    {
     "data": {
      "application/vnd.jupyter.widget-view+json": {
       "model_id": "860062e8da3f4b05ad8fd3ad7a4682e1",
       "version_major": 2,
       "version_minor": 0
      },
      "text/plain": [
       "Iteration:   0%|          | 0/101 [00:00<?, ?it/s]"
      ]
     },
     "metadata": {},
     "output_type": "display_data"
    },
    {
     "name": "stdout",
     "output_type": "stream",
     "text": [
      "0.7826237921249264\n"
     ]
    }
   ],
   "source": [
    "trainer.train(1)"
   ]
  },
  {
   "cell_type": "markdown",
   "id": "0310722d",
   "metadata": {},
   "source": [
    "# Using the fine-tuned model\n",
    "\n",
    "Once we complete the training on the fine-tuned model, we can use it as before. The only modification is to pass the trained model through as a keyword argument.\n",
    "\n",
    "For the embedding, we write"
   ]
  },
  {
   "cell_type": "code",
   "execution_count": 117,
   "id": "e860b861",
   "metadata": {},
   "outputs": [],
   "source": [
    "model = Model(data, model = trainer.model)\n",
    "embed_univ = model.run()"
   ]
  },
  {
   "cell_type": "markdown",
   "id": "ddd72542",
   "metadata": {},
   "source": [
    "and for the querying, we write"
   ]
  },
  {
   "cell_type": "code",
   "execution_count": 121,
   "id": "efc55be6",
   "metadata": {},
   "outputs": [
    {
     "data": {
      "text/plain": [
       "([['Ammyy',\n",
       "   'Ammyy always developing cutting edge internet solutions. Our team has researched informational technologies automation management remote computer access services many'],\n",
       "  ['miracl3',\n",
       "   'We leading web development web design agency, providing best web designing development services from last 10+ years at reasonable cost.We'],\n",
       "  ['Klink Mobile',\n",
       "   'Klink Mobile, Inc. mobile payments company provides secure global application wireless infrastructure enables people from around globe transfer money exchange'],\n",
       "  ['Decimator Design',\n",
       "   'Decimator Design Australian technology company founded in 2006 focusing design manufacture quality products service broadcast environment but applications in other'],\n",
       "  ['Juick', 'IM-based social network microblogging service.'],\n",
       "  ['Mongo',\n",
       "   'Mongo LLP independent application studio has developed social networking app iOS devices named Mongo - location-based networkin'],\n",
       "  ['Zebel',\n",
       "   'Zebel software offers data analytics tools multifamily real estate developers general contractors run feasibility analysis during early design stages. Our'],\n",
       "  ['Master Share Price',\n",
       "   \"Master share price world's leading financial information source. We provide live stock prices education technical analysis.\"],\n",
       "  ['CR8Change',\n",
       "   'A mission driven green web hosting planting tree behalf every account, every month. CR8Change wind powered green web hosting company'],\n",
       "  ['Creative Keedas Private Limited',\n",
       "   'We privately held digital marketing company in Ahmedabad, India. From conception we made sure we set our foot into massive']],\n",
       " 10,\n",
       " 0.7826237921249264)"
      ]
     },
     "execution_count": 121,
     "metadata": {},
     "output_type": "execute_result"
    }
   ],
   "source": [
    "query = Query(embed_univ, data, model = trainer.model)\n",
    "query.run(\"always developing cutting edge internet solutions. Our team has researched informational technologies automation management remote computer access services many\")"
   ]
  },
  {
   "cell_type": "markdown",
   "id": "201e4ecd",
   "metadata": {},
   "source": [
    "# Potential problems\n",
    "\n",
    "1. We currently don't use the fact that these companies are categorized. This may be good or bad?\n",
    "2. User will have to look at the config_data module for differently formatted data sets\n"
   ]
  }
 ],
 "metadata": {
  "kernelspec": {
   "display_name": "Python 3 (ipykernel)",
   "language": "python",
   "name": "python3"
  },
  "language_info": {
   "codemirror_mode": {
    "name": "ipython",
    "version": 3
   },
   "file_extension": ".py",
   "mimetype": "text/x-python",
   "name": "python",
   "nbconvert_exporter": "python",
   "pygments_lexer": "ipython3",
   "version": "3.9.7"
  }
 },
 "nbformat": 4,
 "nbformat_minor": 5
}
