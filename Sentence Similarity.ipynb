{
 "cells": [
  {
   "cell_type": "markdown",
   "id": "9582db22",
   "metadata": {},
   "source": [
    "# Introduction\n",
    "\n",
    "This code is based on SBERT, which is a streamlined sentence comparison API built on BERT. See documentation in https://www.sbert.net/docs/training/overview.html\n",
    "\n",
    "## Model Architecture\n",
    "\n",
    "![image](report/uml.jpeg)\n",
    "\n"
   ]
  },
  {
   "cell_type": "markdown",
   "id": "e687eb9a",
   "metadata": {},
   "source": [
    "# Configure settings and data"
   ]
  },
  {
   "cell_type": "code",
   "execution_count": 6,
   "id": "aa0a6ac0",
   "metadata": {},
   "outputs": [
    {
     "name": "stdout",
     "output_type": "stream",
     "text": [
      "The autoreload extension is already loaded. To reload it, use:\n",
      "  %reload_ext autoreload\n"
     ]
    }
   ],
   "source": [
    "%load_ext autoreload\n",
    "%autoreload 2\n",
    "\n",
    "from Settings.settings import *\n",
    "from Data.config_data import *\n",
    "from Model.model import *\n",
    "from Query.query import *\n",
    "\n",
    "ms = Settings()\n",
    "ms.configure()"
   ]
  },
  {
   "cell_type": "markdown",
   "id": "12900f74",
   "metadata": {},
   "source": [
    "Configure data: this step goes through the csv file and finds and trims the descriptions of the companies."
   ]
  },
  {
   "cell_type": "code",
   "execution_count": 7,
   "id": "d3597e36",
   "metadata": {},
   "outputs": [],
   "source": [
    "data = ConfigData().run_test()"
   ]
  },
  {
   "cell_type": "markdown",
   "id": "eb6d76f4",
   "metadata": {},
   "source": [
    "###### we can see that this returns a list of companies with their respective descriptions (with the company name in the 0th index and the description in the first)."
   ]
  },
  {
   "cell_type": "code",
   "execution_count": 8,
   "id": "bb7e750c",
   "metadata": {},
   "outputs": [
    {
     "data": {
      "text/plain": [
       "[['Klink Mobile',\n",
       "  'Klink Mobile, Inc. mobile payments company provides secure global application wireless infrastructure enables people from around globe transfer money exchange'],\n",
       " ['CompareTheJobBoards.com',\n",
       "  'A comparison site just jobs. A job seeker can search array adverts across hundreds job boards all in place making']]"
      ]
     },
     "execution_count": 8,
     "metadata": {},
     "output_type": "execute_result"
    }
   ],
   "source": [
    "data[5:7]"
   ]
  },
  {
   "cell_type": "markdown",
   "id": "a2ef7789",
   "metadata": {},
   "source": [
    "we then embed our company universe into representation space"
   ]
  },
  {
   "cell_type": "code",
   "execution_count": 9,
   "id": "24edb615",
   "metadata": {},
   "outputs": [],
   "source": [
    "model = Model(data)\n",
    "embed_univ = model.run()"
   ]
  },
  {
   "cell_type": "code",
   "execution_count": 54,
   "id": "dc485298",
   "metadata": {},
   "outputs": [],
   "source": [
    "import numpy as np\n",
    "emb_univ = embed_univ.numpy()\n",
    "dff = pd.DataFrame(emb_univ)\n",
    "dff.to_csv(\"ITonly_short_desc\", index=False)"
   ]
  },
  {
   "cell_type": "markdown",
   "id": "8eccf387",
   "metadata": {},
   "source": [
    "querying can then be done in one step: we input the sentence for a description and get as an output the results."
   ]
  },
  {
   "cell_type": "code",
   "execution_count": 13,
   "id": "462d57b4",
   "metadata": {},
   "outputs": [],
   "source": [
    "ms.configure()\n",
    "query = Query(embed_univ, data)"
   ]
  },
  {
   "cell_type": "code",
   "execution_count": 14,
   "id": "2d9fe98e",
   "metadata": {},
   "outputs": [
    {
     "data": {
      "text/plain": [
       "([['Ammyy',\n",
       "   'Ammyy always developing cutting edge internet solutions. Our team has researched informational technologies automation management remote computer access services many'],\n",
       "  ['IKA Platform',\n",
       "   'IKA Siri Office: Enterprise Automation vía Conversational Artificial Intelligence. Automate your processes workflows in 60 seconds, not in 60 days,'],\n",
       "  ['oInvoices',\n",
       "   'Online invoicing service cloud. It allows small companies startups manage invoicing from everywhere. Compatible tablets smarphones, you can create manage'],\n",
       "  ['Thorium Data',\n",
       "   \"Thorium Data Information Asset Management (IAM) solution helps companies better monetize data. It's ML-driven IAM platform gives all your departments\"],\n",
       "  ['SmartOrg',\n",
       "   'SmartOrg® provides software services help companies evaluate opportunities make best decisions about where invest. Companies like HP use us in'],\n",
       "  ['QuaNode',\n",
       "   'QuaNode, established in 2016 as software company working in-house software projects enabling multiple startups have solid platforms using engine open-source'],\n",
       "  ['Indigo Spectrum',\n",
       "   'They group radiant individuals who have wide range expertise experience in IT. They cover wide spectrum skills experience. From software'],\n",
       "  ['Crescent Technologies',\n",
       "   'We provide services support achieve business goal by combines tech expertise business intelligent our customers. We take each project seriously'],\n",
       "  ['NewPanda',\n",
       "   \"NewPanda creates, suggests, schedules automates content SMBs Enterprise clients. Content can be loaded at unlimited number geographic product-specific tiers. NewPanda's\"],\n",
       "  ['ObjectSpectrum, LLC',\n",
       "   'ObjectSpectrum modular, network-agnostic rapid development environment large-scale IoT applications. Specifically designed needs OEM enterprise customers, it fills gap between high']],\n",
       " 10,\n",
       " 0.8944271909999159)"
      ]
     },
     "execution_count": 14,
     "metadata": {},
     "output_type": "execute_result"
    }
   ],
   "source": [
    "query.run(\"is an enterprise automation platform that helps organizations work faster and smarter without compromising governance and security.\")"
   ]
  },
  {
   "cell_type": "markdown",
   "id": "c87ef7c1",
   "metadata": {},
   "source": [
    "# Saving embedding\n",
    "The embedding takes some time. We should thus save it for later use. We can do this into a csv by writing:"
   ]
  },
  {
   "cell_type": "code",
   "execution_count": 197,
   "id": "2b9ece0e",
   "metadata": {},
   "outputs": [],
   "source": [
    "emb_univ = embed_univ.numpy()\n",
    "dff = pd.DataFrame(emb_univ)\n",
    "dff.to_csv(\"first10000\", index=False)"
   ]
  },
  {
   "cell_type": "markdown",
   "id": "de91700d",
   "metadata": {},
   "source": [
    "# Potential problems\n"
   ]
  },
  {
   "cell_type": "markdown",
   "id": "088ea703",
   "metadata": {},
   "source": [
    "1. We cut the word off by character, which means we are embedding some nonsense words\n",
    "2. We currently don't use the fact that these companies are categorized. This may be good or bad?\n",
    "3. We don't fine-tune the model\n",
    "4. User will have to look at the config_data module for differently formatted data sets\n"
   ]
  },
  {
   "cell_type": "code",
   "execution_count": null,
   "id": "9e8df899",
   "metadata": {},
   "outputs": [],
   "source": []
  },
  {
   "cell_type": "markdown",
   "id": "11c6e0e3",
   "metadata": {},
   "source": [
    "# Model evaluation\n",
    "\n",
    "We evaluate the model based on the similarity of the embeddings by calculating the Spearman rank correlation in comparison to \"gold standards\". These calibration sentences are set in `settings.custom` as follows:"
   ]
  },
  {
   "cell_type": "code",
   "execution_count": 56,
   "id": "1d1d258c",
   "metadata": {},
   "outputs": [],
   "source": [
    "custom.sentences1 = ['Grabango is the leader in checkout-free technology for existing, large-scale grocery and convenience stores', 'Grabango is the leader in checkout-free technology for existing, large-scale grocery and convenience stores', 'Grabango is the leader in checkout-free technology for existing, large-scale grocery and convenience stores','Grabango is the leader in checkout-free technology for existing, large-scale grocery and convenience stores','Grabango is the leader in checkout-free technology for existing, large-scale grocery and convenience stores']\n",
    "custom.sentences2 = ['Zippin is the next generation of checkout-free technology enabling retailers to quickly deploy frictionless shopping in their stores.', 'Standard Cognition provides an autonomous checkout tool that can be installed into retailers’ existing stores.', 'AiFi enables reliable, cost-effective, and contactless autonomous shopping with AI-powered computer vision technology.', 'Moveworks offers an AI platform that revolutionizes how companies support their employees.','Tonkean provides an enterprise no-code process orchestration platform.']\n",
    "custom.scores = [1, 1, 1, 0.03, 0.05]"
   ]
  },
  {
   "cell_type": "markdown",
   "id": "499cdda8",
   "metadata": {},
   "source": [
    "then, whenever we run `Query`, we get the scores along with it."
   ]
  },
  {
   "cell_type": "markdown",
   "id": "0b7200bb",
   "metadata": {},
   "source": [
    "# Model fine tuning\n",
    "So far, we have used the model \"as-is\". For better results, we will have to retrain the model. "
   ]
  },
  {
   "cell_type": "markdown",
   "id": "8ab3dec6",
   "metadata": {},
   "source": [
    "## Training data\n",
    "The training data should consist of pairs of sentences with a labelled score. "
   ]
  },
  {
   "cell_type": "code",
   "execution_count": 29,
   "id": "9855ff41",
   "metadata": {},
   "outputs": [],
   "source": [
    "from Model.train_model import *\n",
    "\n",
    "Trainer = TrainModel(sentences1, sentences2, scores)"
   ]
  },
  {
   "cell_type": "code",
   "execution_count": null,
   "id": "742bba53",
   "metadata": {},
   "outputs": [],
   "source": []
  }
 ],
 "metadata": {
  "kernelspec": {
   "display_name": "Python 3 (ipykernel)",
   "language": "python",
   "name": "python3"
  },
  "language_info": {
   "codemirror_mode": {
    "name": "ipython",
    "version": 3
   },
   "file_extension": ".py",
   "mimetype": "text/x-python",
   "name": "python",
   "nbconvert_exporter": "python",
   "pygments_lexer": "ipython3",
   "version": "3.9.7"
  }
 },
 "nbformat": 4,
 "nbformat_minor": 5
}
