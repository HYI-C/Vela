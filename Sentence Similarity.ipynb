{
 "cells": [
  {
   "cell_type": "markdown",
   "id": "9582db22",
   "metadata": {},
   "source": [
    "# Introduction\n",
    "\n",
    "This code is based on SBERT, which is a streamlined sentence comparison API built on BERT. See documentation in https://www.sbert.net/docs/training/overview.html\n",
    "\n",
    "## Model Architecture\n",
    "\n",
    "![image](report/uml.jpeg)\n",
    "\n"
   ]
  },
  {
   "cell_type": "markdown",
   "id": "e687eb9a",
   "metadata": {},
   "source": [
    "# Configure settings and data"
   ]
  },
  {
   "cell_type": "code",
   "execution_count": 2,
   "id": "aa0a6ac0",
   "metadata": {},
   "outputs": [
    {
     "name": "stdout",
     "output_type": "stream",
     "text": [
      "The autoreload extension is already loaded. To reload it, use:\n",
      "  %reload_ext autoreload\n"
     ]
    }
   ],
   "source": [
    "%load_ext autoreload\n",
    "%autoreload 2\n",
    "\n",
    "from Settings.settings import *\n",
    "from Data.config_data import *\n",
    "from Model.model import *\n",
    "from Query.query import *\n",
    "\n",
    "ms = Settings()\n",
    "ms.configure()"
   ]
  },
  {
   "cell_type": "markdown",
   "id": "12900f74",
   "metadata": {},
   "source": [
    "Configure data: this step goes through the csv file and finds and trims the descriptions of the companies."
   ]
  },
  {
   "cell_type": "code",
   "execution_count": 4,
   "id": "d3597e36",
   "metadata": {},
   "outputs": [],
   "source": [
    "data = ConfigData().run_test()"
   ]
  },
  {
   "cell_type": "markdown",
   "id": "eb6d76f4",
   "metadata": {},
   "source": [
    "###### we can see that this returns a list of companies with their respective descriptions (with the company name in the 0th index and the description in the first)."
   ]
  },
  {
   "cell_type": "code",
   "execution_count": 5,
   "id": "bb7e750c",
   "metadata": {},
   "outputs": [
    {
     "data": {
      "text/plain": [
       "[['Juick', 'IM-based social network and microblogging service.']]"
      ]
     },
     "execution_count": 5,
     "metadata": {},
     "output_type": "execute_result"
    }
   ],
   "source": [
    "data[4:5]"
   ]
  },
  {
   "cell_type": "markdown",
   "id": "a2ef7789",
   "metadata": {},
   "source": [
    "we then embed our company universe into representation space"
   ]
  },
  {
   "cell_type": "code",
   "execution_count": 6,
   "id": "24edb615",
   "metadata": {},
   "outputs": [
    {
     "data": {
      "application/vnd.jupyter.widget-view+json": {
       "model_id": "ed3df8e42afa4fa6ad4b93cca2b76e26",
       "version_major": 2,
       "version_minor": 0
      },
      "text/plain": [
       "Downloading:   0%|          | 0.00/1.18k [00:00<?, ?B/s]"
      ]
     },
     "metadata": {},
     "output_type": "display_data"
    },
    {
     "data": {
      "application/vnd.jupyter.widget-view+json": {
       "model_id": "4fe368d80a174fbeb9c827518c2288ed",
       "version_major": 2,
       "version_minor": 0
      },
      "text/plain": [
       "Downloading:   0%|          | 0.00/10.1k [00:00<?, ?B/s]"
      ]
     },
     "metadata": {},
     "output_type": "display_data"
    },
    {
     "data": {
      "application/vnd.jupyter.widget-view+json": {
       "model_id": "746770c965064c279d05556259e44e6b",
       "version_major": 2,
       "version_minor": 0
      },
      "text/plain": [
       "Downloading:   0%|          | 0.00/571 [00:00<?, ?B/s]"
      ]
     },
     "metadata": {},
     "output_type": "display_data"
    },
    {
     "data": {
      "application/vnd.jupyter.widget-view+json": {
       "model_id": "e540dd98d07741f98af0e03cad51f946",
       "version_major": 2,
       "version_minor": 0
      },
      "text/plain": [
       "Downloading:   0%|          | 0.00/116 [00:00<?, ?B/s]"
      ]
     },
     "metadata": {},
     "output_type": "display_data"
    },
    {
     "data": {
      "application/vnd.jupyter.widget-view+json": {
       "model_id": "d6bb5c8554cc4c08a48ce5bf46631ecf",
       "version_major": 2,
       "version_minor": 0
      },
      "text/plain": [
       "Downloading:   0%|          | 0.00/39.3k [00:00<?, ?B/s]"
      ]
     },
     "metadata": {},
     "output_type": "display_data"
    },
    {
     "data": {
      "application/vnd.jupyter.widget-view+json": {
       "model_id": "be309868cf9f4d56a666461fa1962341",
       "version_major": 2,
       "version_minor": 0
      },
      "text/plain": [
       "Downloading:   0%|          | 0.00/349 [00:00<?, ?B/s]"
      ]
     },
     "metadata": {},
     "output_type": "display_data"
    },
    {
     "data": {
      "application/vnd.jupyter.widget-view+json": {
       "model_id": "e7cb333dd2774673a95ff0352bc87c66",
       "version_major": 2,
       "version_minor": 0
      },
      "text/plain": [
       "Downloading:   0%|          | 0.00/438M [00:00<?, ?B/s]"
      ]
     },
     "metadata": {},
     "output_type": "display_data"
    },
    {
     "data": {
      "application/vnd.jupyter.widget-view+json": {
       "model_id": "79212c7f20ab4dc78d28fc81d24c4e82",
       "version_major": 2,
       "version_minor": 0
      },
      "text/plain": [
       "Downloading:   0%|          | 0.00/53.0 [00:00<?, ?B/s]"
      ]
     },
     "metadata": {},
     "output_type": "display_data"
    },
    {
     "data": {
      "application/vnd.jupyter.widget-view+json": {
       "model_id": "d83cca2e614343e5aaeed4f5aa7b4ed2",
       "version_major": 2,
       "version_minor": 0
      },
      "text/plain": [
       "Downloading:   0%|          | 0.00/239 [00:00<?, ?B/s]"
      ]
     },
     "metadata": {},
     "output_type": "display_data"
    },
    {
     "data": {
      "application/vnd.jupyter.widget-view+json": {
       "model_id": "fbbce533da5d4f85a8f1ec75a5b366ef",
       "version_major": 2,
       "version_minor": 0
      },
      "text/plain": [
       "Downloading:   0%|          | 0.00/466k [00:00<?, ?B/s]"
      ]
     },
     "metadata": {},
     "output_type": "display_data"
    },
    {
     "data": {
      "application/vnd.jupyter.widget-view+json": {
       "model_id": "02334b5c1e9d4175babc9106e6c86834",
       "version_major": 2,
       "version_minor": 0
      },
      "text/plain": [
       "Downloading:   0%|          | 0.00/363 [00:00<?, ?B/s]"
      ]
     },
     "metadata": {},
     "output_type": "display_data"
    },
    {
     "data": {
      "application/vnd.jupyter.widget-view+json": {
       "model_id": "76ca8964e5244682ba2e07900bf20279",
       "version_major": 2,
       "version_minor": 0
      },
      "text/plain": [
       "Downloading:   0%|          | 0.00/13.1k [00:00<?, ?B/s]"
      ]
     },
     "metadata": {},
     "output_type": "display_data"
    },
    {
     "data": {
      "application/vnd.jupyter.widget-view+json": {
       "model_id": "827f822fc7b34fb2b358c9ca701988c7",
       "version_major": 2,
       "version_minor": 0
      },
      "text/plain": [
       "Downloading:   0%|          | 0.00/232k [00:00<?, ?B/s]"
      ]
     },
     "metadata": {},
     "output_type": "display_data"
    },
    {
     "data": {
      "application/vnd.jupyter.widget-view+json": {
       "model_id": "3b9cfe57275b490fae8ad1570cc1e11f",
       "version_major": 2,
       "version_minor": 0
      },
      "text/plain": [
       "Downloading:   0%|          | 0.00/190 [00:00<?, ?B/s]"
      ]
     },
     "metadata": {},
     "output_type": "display_data"
    }
   ],
   "source": [
    "model = Model(data)\n",
    "embed_univ = model.run()"
   ]
  },
  {
   "cell_type": "code",
   "execution_count": null,
   "id": "629a4666",
   "metadata": {},
   "outputs": [],
   "source": []
  },
  {
   "cell_type": "code",
   "execution_count": 54,
   "id": "dc485298",
   "metadata": {},
   "outputs": [],
   "source": [
    "import numpy as np\n",
    "emb_univ = embed_univ.numpy()\n",
    "dff = pd.DataFrame(emb_univ)\n",
    "dff.to_csv(\"ITonly_short_desc\", index=False)"
   ]
  },
  {
   "cell_type": "markdown",
   "id": "8eccf387",
   "metadata": {},
   "source": [
    "querying can then be done in one step: we input the sentence for a description and get as an output the results."
   ]
  },
  {
   "cell_type": "code",
   "execution_count": 55,
   "id": "462d57b4",
   "metadata": {},
   "outputs": [],
   "source": [
    "ms.configure()\n",
    "query = Query(embed_univ, data)"
   ]
  },
  {
   "cell_type": "code",
   "execution_count": 61,
   "id": "2d9fe98e",
   "metadata": {},
   "outputs": [
    {
     "data": {
      "text/plain": [
       "[['MergeYourData.com', 'Business Automation Specialists'],\n",
       " ['Jareva Technologies',\n",
       "  'Provides information technology automation software'],\n",
       " ['Innovative Business Software',\n",
       "  'Innovative Business Software develops automation for the world’s leading security monitoring providers, and those that monitor their own.'],\n",
       " ['Professional Computing Resources (PCR)',\n",
       "  'Provides an Enterprise-level management tool that tracks, manages, and bills – assets, people, operations and workflow.'],\n",
       " ['Automation Technology',\n",
       "  'Automation Technology is a provider of web-based collaborative asset management software for the electrical power generation industry.'],\n",
       " ['Epic-Premier Insurance Solutions',\n",
       "  'Delivering Intelligent Automation Tools & Services.'],\n",
       " ['AutomationEdge',\n",
       "  'AutomationEdge is the leading IT Automation and Robotic Process Automation Solution.'],\n",
       " ['CloudRunner.io Inc',\n",
       "  'CloudRunner designs and develops IT infrastructure automation framework.'],\n",
       " ['Smart Integration', 'Smart Integration, an integrated automation company.'],\n",
       " ['Business Automation Technology',\n",
       "  'Business Automation Technology is a Singapore based system integrator and third-party maintenance service provider.']]"
      ]
     },
     "execution_count": 61,
     "metadata": {},
     "output_type": "execute_result"
    }
   ],
   "source": [
    "query.run(\"is an enterprise automation platform that helps organizations work faster and smarter without compromising governance and security.\")"
   ]
  },
  {
   "cell_type": "markdown",
   "id": "c87ef7c1",
   "metadata": {},
   "source": [
    "# Saving embedding\n",
    "The embedding takes some time. We should thus save it for later use. We can do this into a csv by writing:"
   ]
  },
  {
   "cell_type": "code",
   "execution_count": 197,
   "id": "2b9ece0e",
   "metadata": {},
   "outputs": [],
   "source": [
    "emb_univ = embed_univ.numpy()\n",
    "dff = pd.DataFrame(emb_univ)\n",
    "dff.to_csv(\"first10000\", index=False)"
   ]
  },
  {
   "cell_type": "code",
   "execution_count": null,
   "id": "478e02d4",
   "metadata": {},
   "outputs": [],
   "source": []
  },
  {
   "cell_type": "markdown",
   "id": "de91700d",
   "metadata": {},
   "source": [
    "# Potential problems\n"
   ]
  },
  {
   "cell_type": "markdown",
   "id": "088ea703",
   "metadata": {},
   "source": [
    "1. We cut the word off by character, which means we are embedding some nonsense words\n",
    "2. We currently don't use the fact that these companies are categorized. This may be good or bad?\n",
    "3. We don't fine-tune the model\n",
    "4. User will have to look at the config_data module for differently formatted data sets\n"
   ]
  },
  {
   "cell_type": "code",
   "execution_count": null,
   "id": "9e8df899",
   "metadata": {},
   "outputs": [],
   "source": []
  },
  {
   "cell_type": "markdown",
   "id": "11c6e0e3",
   "metadata": {},
   "source": [
    "# Model evaluation\n",
    "\n",
    "We evaluate the model based on the similarity of the embeddings by calculating the Spearman rank correlation in comparison to \"gold standards\"."
   ]
  },
  {
   "cell_type": "code",
   "execution_count": 56,
   "id": "1d1d258c",
   "metadata": {},
   "outputs": [],
   "source": [
    "from sentence_transformers.evaluation import EmbeddingSimilarityEvaluator\n",
    "\n",
    "sentences1 = ['Grabango is the leader in checkout-free technology for existing, large-scale grocery and convenience stores', 'Grabango is the leader in checkout-free technology for existing, large-scale grocery and convenience stores', 'Grabango is the leader in checkout-free technology for existing, large-scale grocery and convenience stores','Grabango is the leader in checkout-free technology for existing, large-scale grocery and convenience stores','Grabango is the leader in checkout-free technology for existing, large-scale grocery and convenience stores']\n",
    "sentences2 = ['Zippin is the next generation of checkout-free technology enabling retailers to quickly deploy frictionless shopping in their stores.', 'Standard Cognition provides an autonomous checkout tool that can be installed into retailers’ existing stores.', 'AiFi enables reliable, cost-effective, and contactless autonomous shopping with AI-powered computer vision technology.', 'Moveworks offers an AI platform that revolutionizes how companies support their employees.','Tonkean provides an enterprise no-code process orchestration platform.']\n",
    "scores = [1, 1, 1, 0.03, 0.05]\n"
   ]
  },
  {
   "cell_type": "code",
   "execution_count": 57,
   "id": "138181f4",
   "metadata": {},
   "outputs": [],
   "source": [
    "\n",
    "evaluator = EmbeddingSimilarityEvaluator(sentences1, sentences2, scores, write_csv= True)"
   ]
  },
  {
   "cell_type": "code",
   "execution_count": 29,
   "id": "9855ff41",
   "metadata": {},
   "outputs": [],
   "source": [
    "from sentence_transformers import SentenceTransformer, util\n",
    "mod = SentenceTransformer('sentence-transformers/all-mpnet-base-v2')"
   ]
  },
  {
   "cell_type": "code",
   "execution_count": 58,
   "id": "9afbab61",
   "metadata": {},
   "outputs": [
    {
     "data": {
      "text/plain": [
       "0.8944271909999159"
      ]
     },
     "execution_count": 58,
     "metadata": {},
     "output_type": "execute_result"
    }
   ],
   "source": [
    "evaluator(mod)"
   ]
  },
  {
   "cell_type": "code",
   "execution_count": 61,
   "id": "e0937b06",
   "metadata": {},
   "outputs": [],
   "source": [
    "a = np.array([2,3,4,5,56,4])"
   ]
  },
  {
   "cell_type": "code",
   "execution_count": 64,
   "id": "1cbb48e0",
   "metadata": {},
   "outputs": [
    {
     "data": {
      "text/plain": [
       "5"
      ]
     },
     "execution_count": 64,
     "metadata": {},
     "output_type": "execute_result"
    }
   ],
   "source": [
    "len(np.where(a >2)[0])"
   ]
  },
  {
   "cell_type": "code",
   "execution_count": null,
   "id": "742bba53",
   "metadata": {},
   "outputs": [],
   "source": []
  }
 ],
 "metadata": {
  "kernelspec": {
   "display_name": "Python 3 (ipykernel)",
   "language": "python",
   "name": "python3"
  },
  "language_info": {
   "codemirror_mode": {
    "name": "ipython",
    "version": 3
   },
   "file_extension": ".py",
   "mimetype": "text/x-python",
   "name": "python",
   "nbconvert_exporter": "python",
   "pygments_lexer": "ipython3",
   "version": "3.9.7"
  }
 },
 "nbformat": 4,
 "nbformat_minor": 5
}
